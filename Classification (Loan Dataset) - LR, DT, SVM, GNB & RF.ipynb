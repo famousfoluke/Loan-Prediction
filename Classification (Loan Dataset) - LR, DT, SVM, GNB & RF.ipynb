{
 "cells": [
  {
   "cell_type": "markdown",
   "id": "99a105d3",
   "metadata": {},
   "source": [
    "### Introduction\n",
    "\n",
    "The goal is to build a prediction model that classify if a loan will be paid back in full or otherwise. It will be used to assess the credit risk of an individual. If the risk is high, output will be loan will be paid in full, hence loan can be given out to the individual. If otherwise, loan cannot be given to the customer.\n",
    ". <br> <br>\n",
    "The dataset used in training the model was obtained from Kaggle and the link to the dataset can be found [here]. The dataset is labelled, hence series of classification models were experimented during the task. <br> <br>\n",
    "The classification models used are **Logistic Regression, Decision Tree, Random Forest, Support Vector Machine and Gaussian Naive Bayes** "
   ]
  },
  {
   "cell_type": "markdown",
   "id": "f39047fb-5ac4-4a29-8943-920ff7b94b73",
   "metadata": {},
   "source": [
    "### Flow of Work\n",
    "\n",
    "- **Understanding the Dataset** <br>\n",
    "  I import the dataset and try to understand its fundamentals using the **pandas library**. Things I look out for are rows, columns, the data type of each column, null values.\n",
    "- **Data Exploration via Visualisation** <br>\n",
    "  I look out for the spread of the dataset and the outliers to determine the prepreocessing required using **boxplot**. I also checked the correlation between all variables using the heatmap plot of **correlation analysis**\n",
    "- **Data Preprocessing** <br>\n",
    "  I preprocesses the data by encoding the categorical columns using **label encoder** and handled the outliers using **standard scaler**\n",
    "- **Our Models** <br>\n",
    "  I built the 5 models using the **Logistic Regression, Decision Tree, Random Forest, Support Vector Machine and Gaussian Naive Bayes**  from the **scikit-learn** library.\n",
    "- **Inference** <br>\n",
    "  I explained the performance of the model across the classes using precision and recall.\n",
    "- **Best Model** <br>\n",
    "  I visualised the best performing model on a **confusion matrix**"
   ]
  },
  {
   "cell_type": "code",
   "execution_count": 1,
   "id": "951e63e8",
   "metadata": {},
   "outputs": [
    {
     "name": "stdout",
     "output_type": "stream",
     "text": [
      "Intel MKL WARNING: Support of Intel(R) Streaming SIMD Extensions 4.2 (Intel(R) SSE4.2) enabled only processors has been deprecated. Intel oneAPI Math Kernel Library 2025.0 will require Intel(R) Advanced Vector Extensions (Intel(R) AVX) instructions.\n",
      "Intel MKL WARNING: Support of Intel(R) Streaming SIMD Extensions 4.2 (Intel(R) SSE4.2) enabled only processors has been deprecated. Intel oneAPI Math Kernel Library 2025.0 will require Intel(R) Advanced Vector Extensions (Intel(R) AVX) instructions.\n"
     ]
    }
   ],
   "source": [
    "#Import all relevant libraries\n",
    "\n",
    "import pandas as pd\n",
    "import numpy as np\n",
    "import matplotlib.pyplot as plt\n",
    "import seaborn as sns\n",
    "sns.set_theme(style=\"ticks\", palette=\"pastel\")"
   ]
  },
  {
   "cell_type": "code",
   "execution_count": 2,
   "id": "4151df2a",
   "metadata": {},
   "outputs": [],
   "source": [
    "#Import the dataset\n",
    "\n",
    "data = pd.read_csv('loan_data.csv')"
   ]
  },
  {
   "cell_type": "markdown",
   "id": "94606424",
   "metadata": {},
   "source": [
    "### Understanding the Dataset"
   ]
  },
  {
   "cell_type": "code",
   "execution_count": 3,
   "id": "7238e979",
   "metadata": {},
   "outputs": [
    {
     "data": {
      "text/html": [
       "<div>\n",
       "<style scoped>\n",
       "    .dataframe tbody tr th:only-of-type {\n",
       "        vertical-align: middle;\n",
       "    }\n",
       "\n",
       "    .dataframe tbody tr th {\n",
       "        vertical-align: top;\n",
       "    }\n",
       "\n",
       "    .dataframe thead th {\n",
       "        text-align: right;\n",
       "    }\n",
       "</style>\n",
       "<table border=\"1\" class=\"dataframe\">\n",
       "  <thead>\n",
       "    <tr style=\"text-align: right;\">\n",
       "      <th></th>\n",
       "      <th>credit.policy</th>\n",
       "      <th>purpose</th>\n",
       "      <th>int.rate</th>\n",
       "      <th>installment</th>\n",
       "      <th>log.annual.inc</th>\n",
       "      <th>dti</th>\n",
       "      <th>fico</th>\n",
       "      <th>days.with.cr.line</th>\n",
       "      <th>revol.bal</th>\n",
       "      <th>revol.util</th>\n",
       "      <th>inq.last.6mths</th>\n",
       "      <th>delinq.2yrs</th>\n",
       "      <th>pub.rec</th>\n",
       "      <th>not.fully.paid</th>\n",
       "    </tr>\n",
       "  </thead>\n",
       "  <tbody>\n",
       "    <tr>\n",
       "      <th>0</th>\n",
       "      <td>1</td>\n",
       "      <td>debt_consolidation</td>\n",
       "      <td>0.1189</td>\n",
       "      <td>829.10</td>\n",
       "      <td>11.350407</td>\n",
       "      <td>19.48</td>\n",
       "      <td>737</td>\n",
       "      <td>5639.958333</td>\n",
       "      <td>28854</td>\n",
       "      <td>52.1</td>\n",
       "      <td>0</td>\n",
       "      <td>0</td>\n",
       "      <td>0</td>\n",
       "      <td>0</td>\n",
       "    </tr>\n",
       "    <tr>\n",
       "      <th>1</th>\n",
       "      <td>1</td>\n",
       "      <td>credit_card</td>\n",
       "      <td>0.1071</td>\n",
       "      <td>228.22</td>\n",
       "      <td>11.082143</td>\n",
       "      <td>14.29</td>\n",
       "      <td>707</td>\n",
       "      <td>2760.000000</td>\n",
       "      <td>33623</td>\n",
       "      <td>76.7</td>\n",
       "      <td>0</td>\n",
       "      <td>0</td>\n",
       "      <td>0</td>\n",
       "      <td>0</td>\n",
       "    </tr>\n",
       "    <tr>\n",
       "      <th>2</th>\n",
       "      <td>1</td>\n",
       "      <td>debt_consolidation</td>\n",
       "      <td>0.1357</td>\n",
       "      <td>366.86</td>\n",
       "      <td>10.373491</td>\n",
       "      <td>11.63</td>\n",
       "      <td>682</td>\n",
       "      <td>4710.000000</td>\n",
       "      <td>3511</td>\n",
       "      <td>25.6</td>\n",
       "      <td>1</td>\n",
       "      <td>0</td>\n",
       "      <td>0</td>\n",
       "      <td>0</td>\n",
       "    </tr>\n",
       "    <tr>\n",
       "      <th>3</th>\n",
       "      <td>1</td>\n",
       "      <td>debt_consolidation</td>\n",
       "      <td>0.1008</td>\n",
       "      <td>162.34</td>\n",
       "      <td>11.350407</td>\n",
       "      <td>8.10</td>\n",
       "      <td>712</td>\n",
       "      <td>2699.958333</td>\n",
       "      <td>33667</td>\n",
       "      <td>73.2</td>\n",
       "      <td>1</td>\n",
       "      <td>0</td>\n",
       "      <td>0</td>\n",
       "      <td>0</td>\n",
       "    </tr>\n",
       "    <tr>\n",
       "      <th>4</th>\n",
       "      <td>1</td>\n",
       "      <td>credit_card</td>\n",
       "      <td>0.1426</td>\n",
       "      <td>102.92</td>\n",
       "      <td>11.299732</td>\n",
       "      <td>14.97</td>\n",
       "      <td>667</td>\n",
       "      <td>4066.000000</td>\n",
       "      <td>4740</td>\n",
       "      <td>39.5</td>\n",
       "      <td>0</td>\n",
       "      <td>1</td>\n",
       "      <td>0</td>\n",
       "      <td>0</td>\n",
       "    </tr>\n",
       "  </tbody>\n",
       "</table>\n",
       "</div>"
      ],
      "text/plain": [
       "   credit.policy             purpose  int.rate  installment  log.annual.inc  \\\n",
       "0              1  debt_consolidation    0.1189       829.10       11.350407   \n",
       "1              1         credit_card    0.1071       228.22       11.082143   \n",
       "2              1  debt_consolidation    0.1357       366.86       10.373491   \n",
       "3              1  debt_consolidation    0.1008       162.34       11.350407   \n",
       "4              1         credit_card    0.1426       102.92       11.299732   \n",
       "\n",
       "     dti  fico  days.with.cr.line  revol.bal  revol.util  inq.last.6mths  \\\n",
       "0  19.48   737        5639.958333      28854        52.1               0   \n",
       "1  14.29   707        2760.000000      33623        76.7               0   \n",
       "2  11.63   682        4710.000000       3511        25.6               1   \n",
       "3   8.10   712        2699.958333      33667        73.2               1   \n",
       "4  14.97   667        4066.000000       4740        39.5               0   \n",
       "\n",
       "   delinq.2yrs  pub.rec  not.fully.paid  \n",
       "0            0        0               0  \n",
       "1            0        0               0  \n",
       "2            0        0               0  \n",
       "3            0        0               0  \n",
       "4            1        0               0  "
      ]
     },
     "execution_count": 3,
     "metadata": {},
     "output_type": "execute_result"
    }
   ],
   "source": [
    "#View the first 5 rows of the dataset\n",
    "\n",
    "data.head()"
   ]
  },
  {
   "cell_type": "code",
   "execution_count": 4,
   "id": "3f960683",
   "metadata": {},
   "outputs": [
    {
     "data": {
      "text/plain": [
       "(9578, 14)"
      ]
     },
     "execution_count": 4,
     "metadata": {},
     "output_type": "execute_result"
    }
   ],
   "source": [
    "#Display the shape of the dataset\n",
    "\n",
    "data.shape"
   ]
  },
  {
   "cell_type": "code",
   "execution_count": 5,
   "id": "bcb9a2bc",
   "metadata": {},
   "outputs": [
    {
     "data": {
      "text/html": [
       "<div>\n",
       "<style scoped>\n",
       "    .dataframe tbody tr th:only-of-type {\n",
       "        vertical-align: middle;\n",
       "    }\n",
       "\n",
       "    .dataframe tbody tr th {\n",
       "        vertical-align: top;\n",
       "    }\n",
       "\n",
       "    .dataframe thead th {\n",
       "        text-align: right;\n",
       "    }\n",
       "</style>\n",
       "<table border=\"1\" class=\"dataframe\">\n",
       "  <thead>\n",
       "    <tr style=\"text-align: right;\">\n",
       "      <th></th>\n",
       "      <th>credit.policy</th>\n",
       "      <th>int.rate</th>\n",
       "      <th>installment</th>\n",
       "      <th>log.annual.inc</th>\n",
       "      <th>dti</th>\n",
       "      <th>fico</th>\n",
       "      <th>days.with.cr.line</th>\n",
       "      <th>revol.bal</th>\n",
       "      <th>revol.util</th>\n",
       "      <th>inq.last.6mths</th>\n",
       "      <th>delinq.2yrs</th>\n",
       "      <th>pub.rec</th>\n",
       "      <th>not.fully.paid</th>\n",
       "    </tr>\n",
       "  </thead>\n",
       "  <tbody>\n",
       "    <tr>\n",
       "      <th>count</th>\n",
       "      <td>9578.000000</td>\n",
       "      <td>9578.000000</td>\n",
       "      <td>9578.000000</td>\n",
       "      <td>9578.000000</td>\n",
       "      <td>9578.000000</td>\n",
       "      <td>9578.000000</td>\n",
       "      <td>9578.000000</td>\n",
       "      <td>9.578000e+03</td>\n",
       "      <td>9578.000000</td>\n",
       "      <td>9578.000000</td>\n",
       "      <td>9578.000000</td>\n",
       "      <td>9578.000000</td>\n",
       "      <td>9578.000000</td>\n",
       "    </tr>\n",
       "    <tr>\n",
       "      <th>mean</th>\n",
       "      <td>0.804970</td>\n",
       "      <td>0.122640</td>\n",
       "      <td>319.089413</td>\n",
       "      <td>10.932117</td>\n",
       "      <td>12.606679</td>\n",
       "      <td>710.846314</td>\n",
       "      <td>4560.767197</td>\n",
       "      <td>1.691396e+04</td>\n",
       "      <td>46.799236</td>\n",
       "      <td>1.577469</td>\n",
       "      <td>0.163708</td>\n",
       "      <td>0.062122</td>\n",
       "      <td>0.160054</td>\n",
       "    </tr>\n",
       "    <tr>\n",
       "      <th>std</th>\n",
       "      <td>0.396245</td>\n",
       "      <td>0.026847</td>\n",
       "      <td>207.071301</td>\n",
       "      <td>0.614813</td>\n",
       "      <td>6.883970</td>\n",
       "      <td>37.970537</td>\n",
       "      <td>2496.930377</td>\n",
       "      <td>3.375619e+04</td>\n",
       "      <td>29.014417</td>\n",
       "      <td>2.200245</td>\n",
       "      <td>0.546215</td>\n",
       "      <td>0.262126</td>\n",
       "      <td>0.366676</td>\n",
       "    </tr>\n",
       "    <tr>\n",
       "      <th>min</th>\n",
       "      <td>0.000000</td>\n",
       "      <td>0.060000</td>\n",
       "      <td>15.670000</td>\n",
       "      <td>7.547502</td>\n",
       "      <td>0.000000</td>\n",
       "      <td>612.000000</td>\n",
       "      <td>178.958333</td>\n",
       "      <td>0.000000e+00</td>\n",
       "      <td>0.000000</td>\n",
       "      <td>0.000000</td>\n",
       "      <td>0.000000</td>\n",
       "      <td>0.000000</td>\n",
       "      <td>0.000000</td>\n",
       "    </tr>\n",
       "    <tr>\n",
       "      <th>25%</th>\n",
       "      <td>1.000000</td>\n",
       "      <td>0.103900</td>\n",
       "      <td>163.770000</td>\n",
       "      <td>10.558414</td>\n",
       "      <td>7.212500</td>\n",
       "      <td>682.000000</td>\n",
       "      <td>2820.000000</td>\n",
       "      <td>3.187000e+03</td>\n",
       "      <td>22.600000</td>\n",
       "      <td>0.000000</td>\n",
       "      <td>0.000000</td>\n",
       "      <td>0.000000</td>\n",
       "      <td>0.000000</td>\n",
       "    </tr>\n",
       "    <tr>\n",
       "      <th>50%</th>\n",
       "      <td>1.000000</td>\n",
       "      <td>0.122100</td>\n",
       "      <td>268.950000</td>\n",
       "      <td>10.928884</td>\n",
       "      <td>12.665000</td>\n",
       "      <td>707.000000</td>\n",
       "      <td>4139.958333</td>\n",
       "      <td>8.596000e+03</td>\n",
       "      <td>46.300000</td>\n",
       "      <td>1.000000</td>\n",
       "      <td>0.000000</td>\n",
       "      <td>0.000000</td>\n",
       "      <td>0.000000</td>\n",
       "    </tr>\n",
       "    <tr>\n",
       "      <th>75%</th>\n",
       "      <td>1.000000</td>\n",
       "      <td>0.140700</td>\n",
       "      <td>432.762500</td>\n",
       "      <td>11.291293</td>\n",
       "      <td>17.950000</td>\n",
       "      <td>737.000000</td>\n",
       "      <td>5730.000000</td>\n",
       "      <td>1.824950e+04</td>\n",
       "      <td>70.900000</td>\n",
       "      <td>2.000000</td>\n",
       "      <td>0.000000</td>\n",
       "      <td>0.000000</td>\n",
       "      <td>0.000000</td>\n",
       "    </tr>\n",
       "    <tr>\n",
       "      <th>max</th>\n",
       "      <td>1.000000</td>\n",
       "      <td>0.216400</td>\n",
       "      <td>940.140000</td>\n",
       "      <td>14.528354</td>\n",
       "      <td>29.960000</td>\n",
       "      <td>827.000000</td>\n",
       "      <td>17639.958330</td>\n",
       "      <td>1.207359e+06</td>\n",
       "      <td>119.000000</td>\n",
       "      <td>33.000000</td>\n",
       "      <td>13.000000</td>\n",
       "      <td>5.000000</td>\n",
       "      <td>1.000000</td>\n",
       "    </tr>\n",
       "  </tbody>\n",
       "</table>\n",
       "</div>"
      ],
      "text/plain": [
       "       credit.policy     int.rate  installment  log.annual.inc          dti  \\\n",
       "count    9578.000000  9578.000000  9578.000000     9578.000000  9578.000000   \n",
       "mean        0.804970     0.122640   319.089413       10.932117    12.606679   \n",
       "std         0.396245     0.026847   207.071301        0.614813     6.883970   \n",
       "min         0.000000     0.060000    15.670000        7.547502     0.000000   \n",
       "25%         1.000000     0.103900   163.770000       10.558414     7.212500   \n",
       "50%         1.000000     0.122100   268.950000       10.928884    12.665000   \n",
       "75%         1.000000     0.140700   432.762500       11.291293    17.950000   \n",
       "max         1.000000     0.216400   940.140000       14.528354    29.960000   \n",
       "\n",
       "              fico  days.with.cr.line     revol.bal   revol.util  \\\n",
       "count  9578.000000        9578.000000  9.578000e+03  9578.000000   \n",
       "mean    710.846314        4560.767197  1.691396e+04    46.799236   \n",
       "std      37.970537        2496.930377  3.375619e+04    29.014417   \n",
       "min     612.000000         178.958333  0.000000e+00     0.000000   \n",
       "25%     682.000000        2820.000000  3.187000e+03    22.600000   \n",
       "50%     707.000000        4139.958333  8.596000e+03    46.300000   \n",
       "75%     737.000000        5730.000000  1.824950e+04    70.900000   \n",
       "max     827.000000       17639.958330  1.207359e+06   119.000000   \n",
       "\n",
       "       inq.last.6mths  delinq.2yrs      pub.rec  not.fully.paid  \n",
       "count     9578.000000  9578.000000  9578.000000     9578.000000  \n",
       "mean         1.577469     0.163708     0.062122        0.160054  \n",
       "std          2.200245     0.546215     0.262126        0.366676  \n",
       "min          0.000000     0.000000     0.000000        0.000000  \n",
       "25%          0.000000     0.000000     0.000000        0.000000  \n",
       "50%          1.000000     0.000000     0.000000        0.000000  \n",
       "75%          2.000000     0.000000     0.000000        0.000000  \n",
       "max         33.000000    13.000000     5.000000        1.000000  "
      ]
     },
     "execution_count": 5,
     "metadata": {},
     "output_type": "execute_result"
    }
   ],
   "source": [
    "#Display the summary statistics\n",
    "\n",
    "data.describe()"
   ]
  },
  {
   "cell_type": "code",
   "execution_count": 6,
   "id": "23f545c8",
   "metadata": {},
   "outputs": [
    {
     "data": {
      "text/plain": [
       "credit.policy          int64\n",
       "purpose               object\n",
       "int.rate             float64\n",
       "installment          float64\n",
       "log.annual.inc       float64\n",
       "dti                  float64\n",
       "fico                   int64\n",
       "days.with.cr.line    float64\n",
       "revol.bal              int64\n",
       "revol.util           float64\n",
       "inq.last.6mths         int64\n",
       "delinq.2yrs            int64\n",
       "pub.rec                int64\n",
       "not.fully.paid         int64\n",
       "dtype: object"
      ]
     },
     "execution_count": 6,
     "metadata": {},
     "output_type": "execute_result"
    }
   ],
   "source": [
    "#Display the data types of all variables in the dataset\n",
    "\n",
    "data.dtypes"
   ]
  },
  {
   "cell_type": "code",
   "execution_count": 7,
   "id": "8e7d4bb7",
   "metadata": {},
   "outputs": [
    {
     "data": {
      "text/plain": [
       "purpose\n",
       "debt_consolidation    3957\n",
       "all_other             2331\n",
       "credit_card           1262\n",
       "home_improvement       629\n",
       "small_business         619\n",
       "major_purchase         437\n",
       "educational            343\n",
       "Name: count, dtype: int64"
      ]
     },
     "execution_count": 7,
     "metadata": {},
     "output_type": "execute_result"
    }
   ],
   "source": [
    "#Display the group in \"Purpose\"\n",
    "\n",
    "data['purpose'].value_counts()"
   ]
  },
  {
   "cell_type": "code",
   "execution_count": 8,
   "id": "c3956ce6",
   "metadata": {},
   "outputs": [
    {
     "data": {
      "text/plain": [
       "credit.policy        0\n",
       "purpose              0\n",
       "int.rate             0\n",
       "installment          0\n",
       "log.annual.inc       0\n",
       "dti                  0\n",
       "fico                 0\n",
       "days.with.cr.line    0\n",
       "revol.bal            0\n",
       "revol.util           0\n",
       "inq.last.6mths       0\n",
       "delinq.2yrs          0\n",
       "pub.rec              0\n",
       "not.fully.paid       0\n",
       "dtype: int64"
      ]
     },
     "execution_count": 8,
     "metadata": {},
     "output_type": "execute_result"
    }
   ],
   "source": [
    "#Check for missing values\n",
    "\n",
    "data.apply(lambda x: sum(x.isnull()), axis = 0)"
   ]
  },
  {
   "cell_type": "markdown",
   "id": "78dad069",
   "metadata": {},
   "source": [
    "No null value found"
   ]
  },
  {
   "cell_type": "markdown",
   "id": "4e51f94f",
   "metadata": {},
   "source": []
  },
  {
   "cell_type": "markdown",
   "id": "982f3b7e",
   "metadata": {},
   "source": [
    "### About the Dataset\n",
    "The variables in the dataset are characteristics of loan, some of these variables are credit policy, loan purpose, interest rate, annual income etc.<br> <br>\n",
    "There are 13 columns and 9,578 rows. All the columns are numeric except the column 'purpose'. Purpose has 7 groups of which 'debt_consolidation' occurred most while 'educational'. None of the variables has empty cells."
   ]
  },
  {
   "cell_type": "markdown",
   "id": "01ed2f15",
   "metadata": {},
   "source": [
    "### Data Exploration via Visualization"
   ]
  },
  {
   "cell_type": "markdown",
   "id": "f12514dc",
   "metadata": {},
   "source": [
    "**1. Correlation Analysis**"
   ]
  },
  {
   "cell_type": "code",
   "execution_count": 9,
   "id": "046b2d55",
   "metadata": {},
   "outputs": [
    {
     "name": "stderr",
     "output_type": "stream",
     "text": [
      "/Users/user/opt/anaconda3/envs/py3-TF2.0/lib/python3.10/site-packages/seaborn/matrix.py:260: FutureWarning: Format strings passed to MaskedConstant are ignored, but in future may error or produce different behavior\n",
      "  annotation = (\"{:\" + self.fmt + \"}\").format(val)\n"
     ]
    },
    {
     "data": {
      "text/plain": [
       "<Axes: >"
      ]
     },
     "execution_count": 9,
     "metadata": {},
     "output_type": "execute_result"
    },
    {
     "data": {
      "image/png": "[encoded data removed]",
      "text/plain": [
       "<Figure size 1600x800 with 2 Axes>"
      ]
     },
     "metadata": {},
     "output_type": "display_data"
    }
   ],
   "source": [
    "#Correlation matrix for all numeric features\n",
    "\n",
    "corr_data = data.select_dtypes(include=['int64','float64'])\n",
    "\n",
    "# Compute the correlation matrix\n",
    "corr = corr_data.corr()\n",
    "\n",
    "# Generate a mask for the upper triangle\n",
    "mask = np.triu(corr)\n",
    "\n",
    "# Set up the matplotlib figure\n",
    "f, ax = plt.subplots(figsize=(16, 8))\n",
    "\n",
    "# Draw the heatmap with the mask and correct aspect ratio\n",
    "sns.heatmap(corr, annot=True,  mask=mask)"
   ]
  },
  {
   "cell_type": "markdown",
   "id": "3a0809e5",
   "metadata": {},
   "source": [
    "There is high negative correlation between - fico & revol.util, fico & int.rate, inq.last.6mnths & credit.policy. The highest positive correlation is about 0.4, the highest positve correlation is between revol.util & int.rate"
   ]
  },
  {
   "cell_type": "markdown",
   "id": "f89183dc",
   "metadata": {},
   "source": [
    "**2. Check for Outliers - Histogram & Boxplots**"
   ]
  },
  {
   "cell_type": "code",
   "execution_count": 10,
   "id": "997c9b6f",
   "metadata": {},
   "outputs": [],
   "source": [
    "#Break the features into groups based on type for visualization \n",
    "\n",
    "x = data.drop('not.fully.paid', axis=1)\n",
    "y = data['not.fully.paid']\n",
    "\n",
    "numeric_features = x.select_dtypes(include=['int64','float64'])\n",
    "integer_features = x.select_dtypes(include='int64')\n",
    "float_features = x.select_dtypes(include='float64')\n",
    "categorical_features = x.select_dtypes(include='object')\n",
    "\n",
    "numeric_columns = data.select_dtypes(include=['int64','float64'])"
   ]
  },
  {
   "cell_type": "markdown",
   "id": "409eab29-9042-4414-a5bf-b5f01c5f5b1d",
   "metadata": {},
   "source": [
    "#Group-plotting of Distribution(Histogram) & Boxplot for numeric features\n",
    "\n",
    "fig = plt.figure(constrained_layout=True, figsize=(15,20))\n",
    "\n",
    "subfigs = fig.subfigures(6,2)\n",
    "\n",
    "for subfig, col in zip(subfigs.flat, numeric_features.columns):\n",
    "    (ax_box, ax_hist) = subfig.subplots(2,1, sharex=True, gridspec_kw={\"height_ratios\": (0.15,0.85)})\n",
    "    sns.boxplot(data=numeric_features, x=col, ax=ax_box)\n",
    "    sns.histplot(data=numeric_features, x=col, ax=ax_hist)\n",
    "    ax_box.set(xlabel=\"\")\n",
    "    ax_hist.set_xlabel(col, fontsize=15)\n",
    "\n",
    "plt.show()"
   ]
  },
  {
   "cell_type": "code",
   "execution_count": 11,
   "id": "d743e0df",
   "metadata": {},
   "outputs": [
    {
     "data": {
      "image/png": "[encoded data removed]",
      "text/plain": [
       "<Figure size 2000x2000 with 12 Axes>"
      ]
     },
     "metadata": {},
     "output_type": "display_data"
    }
   ],
   "source": [
    "#Group BoxPlot for numeric features against payment status\n",
    "\n",
    "fig, axs = plt.subplots(6,2, figsize=(20,20), sharex=True)\n",
    "for ax, col in zip(axs.ravel(), numeric_features.columns):\n",
    "    sns.boxplot(data=data, y=col, ax=ax)\n",
    "    ax.set_xlabel(\"not fully paid\", fontsize=15)\n",
    "    ax.set_ylabel(col, fontsize=15)\n",
    "\n",
    "plt.tight_layout()\n",
    "plt.show() \n",
    "\n",
    "#x=\"not.fully.paid\", y=col, hue=\"not.fully.paid\", \n",
    "\n",
    "#find the log of revol_bal, deliq_2yrs, pub_rec to minimize outliers"
   ]
  },
  {
   "cell_type": "markdown",
   "id": "0e8c6ae4-3b91-4223-a671-b290e1da993b",
   "metadata": {},
   "source": [
    "There are outliers in almost all the variables. The variables without reasonable outliers are revol.util & installment. Revol.util however has outliers for group - 'not fully paid'; installment has outliers for the 2 classes. Dti does not have outliers when grouped across the 2 classes.<br> <br>\n",
    "Due to the outliers largely seen in the dataset, scaling is required during preprocessing to fix the problem."
   ]
  },
  {
   "cell_type": "markdown",
   "id": "a28437d5",
   "metadata": {},
   "source": [
    "### Data Preprocessing"
   ]
  },
  {
   "cell_type": "code",
   "execution_count": 12,
   "id": "95e3f4c5",
   "metadata": {},
   "outputs": [
    {
     "data": {
      "text/plain": [
       "not.fully.paid\n",
       "0    8045\n",
       "1    1533\n",
       "Name: count, dtype: int64"
      ]
     },
     "execution_count": 12,
     "metadata": {},
     "output_type": "execute_result"
    }
   ],
   "source": [
    "#Check for the dataset distribution for the independent variable - not fully paid or fully paid\n",
    "\n",
    "distibution_check = data['not.fully.paid'].value_counts()\n",
    "distibution_check"
   ]
  },
  {
   "cell_type": "code",
   "execution_count": 13,
   "id": "148e6f9e",
   "metadata": {},
   "outputs": [
    {
     "data": {
      "text/plain": [
       "83.99457089162664"
      ]
     },
     "execution_count": 13,
     "metadata": {},
     "output_type": "execute_result"
    }
   ],
   "source": [
    "distibution_check[0]/(distibution_check[0] + distibution_check[1]) * 100"
   ]
  },
  {
   "cell_type": "markdown",
   "id": "33ef2903",
   "metadata": {},
   "source": [
    "The dataset is grossly imbalance. 83% of the dataset has 'not fully paid status'. There is a need to balance this out before pproceeding to build the model."
   ]
  },
  {
   "cell_type": "code",
   "execution_count": 14,
   "id": "59bc3a39",
   "metadata": {},
   "outputs": [
    {
     "data": {
      "text/plain": [
       "not.fully.paid\n",
       "0    8045\n",
       "1    8045\n",
       "Name: count, dtype: int64"
      ]
     },
     "execution_count": 14,
     "metadata": {},
     "output_type": "execute_result"
    }
   ],
   "source": [
    "#Balance the dataset using the upscaling method for the minority group\n",
    "\n",
    "#Import the resample module\n",
    "from sklearn.utils import resample\n",
    "\n",
    "#Split the dataset into majority & minority\n",
    "data_majority = data[data[\"not.fully.paid\"]==0]\n",
    "data_minority = data[data[\"not.fully.paid\"]==1]\n",
    "\n",
    "#Upsample the minority class to 8045 rows\n",
    "data_minority_upsampled = resample(data_minority, replace=True, n_samples=8045, random_state=123)\n",
    "\n",
    "#Combine majority class with upsampled minority class\n",
    "data = pd.concat([data_majority, data_minority_upsampled])\n",
    "\n",
    "data['not.fully.paid'].value_counts()\n",
    "\n",
    "#Check for imbalance in the upsampled dataset"
   ]
  },
  {
   "cell_type": "markdown",
   "id": "96d6a2c8",
   "metadata": {},
   "source": [
    "The dataset is now balanced"
   ]
  },
  {
   "cell_type": "markdown",
   "id": "aa5f1d9e",
   "metadata": {},
   "source": [
    "**2. Encoding & Scaling the Dataset**"
   ]
  },
  {
   "cell_type": "code",
   "execution_count": 15,
   "id": "11331b06",
   "metadata": {},
   "outputs": [],
   "source": [
    "from sklearn.preprocessing import LabelEncoder\n",
    "from sklearn.preprocessing import StandardScaler"
   ]
  },
  {
   "cell_type": "code",
   "execution_count": 16,
   "id": "8c42e28c",
   "metadata": {},
   "outputs": [
    {
     "data": {
      "text/plain": [
       "credit.policy          int64\n",
       "purpose               object\n",
       "int.rate             float64\n",
       "installment          float64\n",
       "log.annual.inc       float64\n",
       "dti                  float64\n",
       "fico                   int64\n",
       "days.with.cr.line    float64\n",
       "revol.bal              int64\n",
       "revol.util           float64\n",
       "inq.last.6mths         int64\n",
       "delinq.2yrs            int64\n",
       "pub.rec                int64\n",
       "not.fully.paid         int64\n",
       "dtype: object"
      ]
     },
     "execution_count": 16,
     "metadata": {},
     "output_type": "execute_result"
    }
   ],
   "source": [
    "data.dtypes"
   ]
  },
  {
   "cell_type": "code",
   "execution_count": 17,
   "id": "2c22163d",
   "metadata": {},
   "outputs": [
    {
     "name": "stdout",
     "output_type": "stream",
     "text": [
      "['purpose']\n"
     ]
    }
   ],
   "source": [
    "#Extract the column for encoding\n",
    "\n",
    "columns_for_encoding = list(x.select_dtypes(exclude=['float64','int64']))\n",
    "print(columns_for_encoding)"
   ]
  },
  {
   "cell_type": "code",
   "execution_count": 18,
   "id": "8971f53a",
   "metadata": {},
   "outputs": [],
   "source": [
    "#Encode the 'purpose' column using LabelEncoder\n",
    "\n",
    "le = LabelEncoder()\n",
    "for i in columns_for_encoding:\n",
    "    data[i] = le.fit_transform(data[i])"
   ]
  },
  {
   "cell_type": "code",
   "execution_count": 19,
   "id": "3ec6ac1b",
   "metadata": {},
   "outputs": [
    {
     "data": {
      "text/html": [
       "<div>\n",
       "<style scoped>\n",
       "    .dataframe tbody tr th:only-of-type {\n",
       "        vertical-align: middle;\n",
       "    }\n",
       "\n",
       "    .dataframe tbody tr th {\n",
       "        vertical-align: top;\n",
       "    }\n",
       "\n",
       "    .dataframe thead th {\n",
       "        text-align: right;\n",
       "    }\n",
       "</style>\n",
       "<table border=\"1\" class=\"dataframe\">\n",
       "  <thead>\n",
       "    <tr style=\"text-align: right;\">\n",
       "      <th></th>\n",
       "      <th>credit.policy</th>\n",
       "      <th>purpose</th>\n",
       "      <th>int.rate</th>\n",
       "      <th>installment</th>\n",
       "      <th>log.annual.inc</th>\n",
       "      <th>dti</th>\n",
       "      <th>fico</th>\n",
       "      <th>days.with.cr.line</th>\n",
       "      <th>revol.bal</th>\n",
       "      <th>revol.util</th>\n",
       "      <th>inq.last.6mths</th>\n",
       "      <th>delinq.2yrs</th>\n",
       "      <th>pub.rec</th>\n",
       "      <th>not.fully.paid</th>\n",
       "    </tr>\n",
       "  </thead>\n",
       "  <tbody>\n",
       "    <tr>\n",
       "      <th>0</th>\n",
       "      <td>1</td>\n",
       "      <td>2</td>\n",
       "      <td>0.1189</td>\n",
       "      <td>829.10</td>\n",
       "      <td>11.350407</td>\n",
       "      <td>19.48</td>\n",
       "      <td>737</td>\n",
       "      <td>5639.958333</td>\n",
       "      <td>28854</td>\n",
       "      <td>52.1</td>\n",
       "      <td>0</td>\n",
       "      <td>0</td>\n",
       "      <td>0</td>\n",
       "      <td>0</td>\n",
       "    </tr>\n",
       "    <tr>\n",
       "      <th>1</th>\n",
       "      <td>1</td>\n",
       "      <td>1</td>\n",
       "      <td>0.1071</td>\n",
       "      <td>228.22</td>\n",
       "      <td>11.082143</td>\n",
       "      <td>14.29</td>\n",
       "      <td>707</td>\n",
       "      <td>2760.000000</td>\n",
       "      <td>33623</td>\n",
       "      <td>76.7</td>\n",
       "      <td>0</td>\n",
       "      <td>0</td>\n",
       "      <td>0</td>\n",
       "      <td>0</td>\n",
       "    </tr>\n",
       "    <tr>\n",
       "      <th>2</th>\n",
       "      <td>1</td>\n",
       "      <td>2</td>\n",
       "      <td>0.1357</td>\n",
       "      <td>366.86</td>\n",
       "      <td>10.373491</td>\n",
       "      <td>11.63</td>\n",
       "      <td>682</td>\n",
       "      <td>4710.000000</td>\n",
       "      <td>3511</td>\n",
       "      <td>25.6</td>\n",
       "      <td>1</td>\n",
       "      <td>0</td>\n",
       "      <td>0</td>\n",
       "      <td>0</td>\n",
       "    </tr>\n",
       "    <tr>\n",
       "      <th>3</th>\n",
       "      <td>1</td>\n",
       "      <td>2</td>\n",
       "      <td>0.1008</td>\n",
       "      <td>162.34</td>\n",
       "      <td>11.350407</td>\n",
       "      <td>8.10</td>\n",
       "      <td>712</td>\n",
       "      <td>2699.958333</td>\n",
       "      <td>33667</td>\n",
       "      <td>73.2</td>\n",
       "      <td>1</td>\n",
       "      <td>0</td>\n",
       "      <td>0</td>\n",
       "      <td>0</td>\n",
       "    </tr>\n",
       "    <tr>\n",
       "      <th>4</th>\n",
       "      <td>1</td>\n",
       "      <td>1</td>\n",
       "      <td>0.1426</td>\n",
       "      <td>102.92</td>\n",
       "      <td>11.299732</td>\n",
       "      <td>14.97</td>\n",
       "      <td>667</td>\n",
       "      <td>4066.000000</td>\n",
       "      <td>4740</td>\n",
       "      <td>39.5</td>\n",
       "      <td>0</td>\n",
       "      <td>1</td>\n",
       "      <td>0</td>\n",
       "      <td>0</td>\n",
       "    </tr>\n",
       "  </tbody>\n",
       "</table>\n",
       "</div>"
      ],
      "text/plain": [
       "   credit.policy  purpose  int.rate  installment  log.annual.inc    dti  fico  \\\n",
       "0              1        2    0.1189       829.10       11.350407  19.48   737   \n",
       "1              1        1    0.1071       228.22       11.082143  14.29   707   \n",
       "2              1        2    0.1357       366.86       10.373491  11.63   682   \n",
       "3              1        2    0.1008       162.34       11.350407   8.10   712   \n",
       "4              1        1    0.1426       102.92       11.299732  14.97   667   \n",
       "\n",
       "   days.with.cr.line  revol.bal  revol.util  inq.last.6mths  delinq.2yrs  \\\n",
       "0        5639.958333      28854        52.1               0            0   \n",
       "1        2760.000000      33623        76.7               0            0   \n",
       "2        4710.000000       3511        25.6               1            0   \n",
       "3        2699.958333      33667        73.2               1            0   \n",
       "4        4066.000000       4740        39.5               0            1   \n",
       "\n",
       "   pub.rec  not.fully.paid  \n",
       "0        0               0  \n",
       "1        0               0  \n",
       "2        0               0  \n",
       "3        0               0  \n",
       "4        0               0  "
      ]
     },
     "execution_count": 19,
     "metadata": {},
     "output_type": "execute_result"
    }
   ],
   "source": [
    "#View the new dataset\n",
    "\n",
    "data.head()"
   ]
  },
  {
   "cell_type": "code",
   "execution_count": 20,
   "id": "0a2e538b",
   "metadata": {},
   "outputs": [
    {
     "data": {
      "text/html": [
       "<div>\n",
       "<style scoped>\n",
       "    .dataframe tbody tr th:only-of-type {\n",
       "        vertical-align: middle;\n",
       "    }\n",
       "\n",
       "    .dataframe tbody tr th {\n",
       "        vertical-align: top;\n",
       "    }\n",
       "\n",
       "    .dataframe thead th {\n",
       "        text-align: right;\n",
       "    }\n",
       "</style>\n",
       "<table border=\"1\" class=\"dataframe\">\n",
       "  <thead>\n",
       "    <tr style=\"text-align: right;\">\n",
       "      <th></th>\n",
       "      <th>credit.policy</th>\n",
       "      <th>purpose</th>\n",
       "      <th>int.rate</th>\n",
       "      <th>installment</th>\n",
       "      <th>log.annual.inc</th>\n",
       "      <th>dti</th>\n",
       "      <th>fico</th>\n",
       "      <th>days.with.cr.line</th>\n",
       "      <th>revol.bal</th>\n",
       "      <th>revol.util</th>\n",
       "      <th>inq.last.6mths</th>\n",
       "      <th>delinq.2yrs</th>\n",
       "      <th>pub.rec</th>\n",
       "    </tr>\n",
       "  </thead>\n",
       "  <tbody>\n",
       "    <tr>\n",
       "      <th>0</th>\n",
       "      <td>1</td>\n",
       "      <td>2</td>\n",
       "      <td>0.1189</td>\n",
       "      <td>829.10</td>\n",
       "      <td>11.350407</td>\n",
       "      <td>19.48</td>\n",
       "      <td>737</td>\n",
       "      <td>5639.958333</td>\n",
       "      <td>28854</td>\n",
       "      <td>52.1</td>\n",
       "      <td>0</td>\n",
       "      <td>0</td>\n",
       "      <td>0</td>\n",
       "    </tr>\n",
       "    <tr>\n",
       "      <th>1</th>\n",
       "      <td>1</td>\n",
       "      <td>1</td>\n",
       "      <td>0.1071</td>\n",
       "      <td>228.22</td>\n",
       "      <td>11.082143</td>\n",
       "      <td>14.29</td>\n",
       "      <td>707</td>\n",
       "      <td>2760.000000</td>\n",
       "      <td>33623</td>\n",
       "      <td>76.7</td>\n",
       "      <td>0</td>\n",
       "      <td>0</td>\n",
       "      <td>0</td>\n",
       "    </tr>\n",
       "    <tr>\n",
       "      <th>2</th>\n",
       "      <td>1</td>\n",
       "      <td>2</td>\n",
       "      <td>0.1357</td>\n",
       "      <td>366.86</td>\n",
       "      <td>10.373491</td>\n",
       "      <td>11.63</td>\n",
       "      <td>682</td>\n",
       "      <td>4710.000000</td>\n",
       "      <td>3511</td>\n",
       "      <td>25.6</td>\n",
       "      <td>1</td>\n",
       "      <td>0</td>\n",
       "      <td>0</td>\n",
       "    </tr>\n",
       "    <tr>\n",
       "      <th>3</th>\n",
       "      <td>1</td>\n",
       "      <td>2</td>\n",
       "      <td>0.1008</td>\n",
       "      <td>162.34</td>\n",
       "      <td>11.350407</td>\n",
       "      <td>8.10</td>\n",
       "      <td>712</td>\n",
       "      <td>2699.958333</td>\n",
       "      <td>33667</td>\n",
       "      <td>73.2</td>\n",
       "      <td>1</td>\n",
       "      <td>0</td>\n",
       "      <td>0</td>\n",
       "    </tr>\n",
       "    <tr>\n",
       "      <th>4</th>\n",
       "      <td>1</td>\n",
       "      <td>1</td>\n",
       "      <td>0.1426</td>\n",
       "      <td>102.92</td>\n",
       "      <td>11.299732</td>\n",
       "      <td>14.97</td>\n",
       "      <td>667</td>\n",
       "      <td>4066.000000</td>\n",
       "      <td>4740</td>\n",
       "      <td>39.5</td>\n",
       "      <td>0</td>\n",
       "      <td>1</td>\n",
       "      <td>0</td>\n",
       "    </tr>\n",
       "  </tbody>\n",
       "</table>\n",
       "</div>"
      ],
      "text/plain": [
       "   credit.policy  purpose  int.rate  installment  log.annual.inc    dti  fico  \\\n",
       "0              1        2    0.1189       829.10       11.350407  19.48   737   \n",
       "1              1        1    0.1071       228.22       11.082143  14.29   707   \n",
       "2              1        2    0.1357       366.86       10.373491  11.63   682   \n",
       "3              1        2    0.1008       162.34       11.350407   8.10   712   \n",
       "4              1        1    0.1426       102.92       11.299732  14.97   667   \n",
       "\n",
       "   days.with.cr.line  revol.bal  revol.util  inq.last.6mths  delinq.2yrs  \\\n",
       "0        5639.958333      28854        52.1               0            0   \n",
       "1        2760.000000      33623        76.7               0            0   \n",
       "2        4710.000000       3511        25.6               1            0   \n",
       "3        2699.958333      33667        73.2               1            0   \n",
       "4        4066.000000       4740        39.5               0            1   \n",
       "\n",
       "   pub.rec  \n",
       "0        0  \n",
       "1        0  \n",
       "2        0  \n",
       "3        0  \n",
       "4        0  "
      ]
     },
     "execution_count": 20,
     "metadata": {},
     "output_type": "execute_result"
    }
   ],
   "source": [
    "#Remove the dependent (y) variable to get the independent (x) variables needed for scaling\n",
    "\n",
    "data_for_scaling = data.drop('not.fully.paid', axis=1)\n",
    "data_for_scaling.head()"
   ]
  },
  {
   "cell_type": "code",
   "execution_count": 21,
   "id": "2b299ecf",
   "metadata": {},
   "outputs": [],
   "source": [
    "#Standard the dataset using StandardScaler. It standardize the features to have 0 mean and Standard Deviation of 1\n",
    "#This is because it makes the feature have similar ranges, preventing some features from dominating others \n",
    "#due to their larger magnitudes. This can improve the convergence of our models\n",
    "\n",
    "sc = StandardScaler()\n",
    "scaled_data = sc.fit_transform(data_for_scaling)"
   ]
  },
  {
   "cell_type": "code",
   "execution_count": 22,
   "id": "8e047c89",
   "metadata": {},
   "outputs": [
    {
     "data": {
      "text/plain": [
       "array([[ 0.58601041, -0.01262024, -0.28899396,  2.33495315,  0.68764276,\n",
       "         0.95762024,  0.84804172,  0.47137062,  0.2646003 ,  0.10803439,\n",
       "        -0.75525059, -0.31214093, -0.2698196 ],\n",
       "       [ 0.58601041, -0.57982617, -0.72977159, -0.4710551 ,  0.2650274 ,\n",
       "         0.21139219,  0.03811376, -0.69860198,  0.38513426,  0.94789231,\n",
       "        -0.75525059, -0.31214093, -0.2698196 ],\n",
       "       [ 0.58601041, -0.01262024,  0.33855387,  0.17637031, -0.85136157,\n",
       "        -0.17106766, -0.6368262 ,  0.09357843, -0.37593066, -0.7966906 ,\n",
       "        -0.35734679, -0.31214093, -0.2698196 ],\n",
       "       [ 0.58601041, -0.01262024, -0.96510203, -0.77870359,  0.68764276,\n",
       "        -0.67861776,  0.17310176, -0.72299369,  0.38624633,  0.82840033,\n",
       "        -0.35734679, -0.31214093, -0.2698196 ],\n",
       "       [ 0.58601041, -0.57982617,  0.59629673, -1.05618497,  0.60781193,\n",
       "         0.30916388, -1.04179018, -0.16804423, -0.34486833, -0.32213673,\n",
       "        -0.75525059,  1.58308455, -0.2698196 ]])"
      ]
     },
     "execution_count": 22,
     "metadata": {},
     "output_type": "execute_result"
    }
   ],
   "source": [
    "scaled_data[0:5]"
   ]
  },
  {
   "cell_type": "code",
   "execution_count": 23,
   "id": "4c800243",
   "metadata": {},
   "outputs": [],
   "source": [
    "scaled_data = pd.DataFrame(scaled_data, columns=data_for_scaling.columns)"
   ]
  },
  {
   "cell_type": "code",
   "execution_count": 24,
   "id": "c12f627b",
   "metadata": {},
   "outputs": [
    {
     "data": {
      "text/html": [
       "<div>\n",
       "<style scoped>\n",
       "    .dataframe tbody tr th:only-of-type {\n",
       "        vertical-align: middle;\n",
       "    }\n",
       "\n",
       "    .dataframe tbody tr th {\n",
       "        vertical-align: top;\n",
       "    }\n",
       "\n",
       "    .dataframe thead th {\n",
       "        text-align: right;\n",
       "    }\n",
       "</style>\n",
       "<table border=\"1\" class=\"dataframe\">\n",
       "  <thead>\n",
       "    <tr style=\"text-align: right;\">\n",
       "      <th></th>\n",
       "      <th>credit.policy</th>\n",
       "      <th>purpose</th>\n",
       "      <th>int.rate</th>\n",
       "      <th>installment</th>\n",
       "      <th>log.annual.inc</th>\n",
       "      <th>dti</th>\n",
       "      <th>fico</th>\n",
       "      <th>days.with.cr.line</th>\n",
       "      <th>revol.bal</th>\n",
       "      <th>revol.util</th>\n",
       "      <th>inq.last.6mths</th>\n",
       "      <th>delinq.2yrs</th>\n",
       "      <th>pub.rec</th>\n",
       "    </tr>\n",
       "  </thead>\n",
       "  <tbody>\n",
       "    <tr>\n",
       "      <th>0</th>\n",
       "      <td>0.58601</td>\n",
       "      <td>-0.012620</td>\n",
       "      <td>-0.288994</td>\n",
       "      <td>2.334953</td>\n",
       "      <td>0.687643</td>\n",
       "      <td>0.957620</td>\n",
       "      <td>0.848042</td>\n",
       "      <td>0.471371</td>\n",
       "      <td>0.264600</td>\n",
       "      <td>0.108034</td>\n",
       "      <td>-0.755251</td>\n",
       "      <td>-0.312141</td>\n",
       "      <td>-0.26982</td>\n",
       "    </tr>\n",
       "    <tr>\n",
       "      <th>1</th>\n",
       "      <td>0.58601</td>\n",
       "      <td>-0.579826</td>\n",
       "      <td>-0.729772</td>\n",
       "      <td>-0.471055</td>\n",
       "      <td>0.265027</td>\n",
       "      <td>0.211392</td>\n",
       "      <td>0.038114</td>\n",
       "      <td>-0.698602</td>\n",
       "      <td>0.385134</td>\n",
       "      <td>0.947892</td>\n",
       "      <td>-0.755251</td>\n",
       "      <td>-0.312141</td>\n",
       "      <td>-0.26982</td>\n",
       "    </tr>\n",
       "    <tr>\n",
       "      <th>2</th>\n",
       "      <td>0.58601</td>\n",
       "      <td>-0.012620</td>\n",
       "      <td>0.338554</td>\n",
       "      <td>0.176370</td>\n",
       "      <td>-0.851362</td>\n",
       "      <td>-0.171068</td>\n",
       "      <td>-0.636826</td>\n",
       "      <td>0.093578</td>\n",
       "      <td>-0.375931</td>\n",
       "      <td>-0.796691</td>\n",
       "      <td>-0.357347</td>\n",
       "      <td>-0.312141</td>\n",
       "      <td>-0.26982</td>\n",
       "    </tr>\n",
       "    <tr>\n",
       "      <th>3</th>\n",
       "      <td>0.58601</td>\n",
       "      <td>-0.012620</td>\n",
       "      <td>-0.965102</td>\n",
       "      <td>-0.778704</td>\n",
       "      <td>0.687643</td>\n",
       "      <td>-0.678618</td>\n",
       "      <td>0.173102</td>\n",
       "      <td>-0.722994</td>\n",
       "      <td>0.386246</td>\n",
       "      <td>0.828400</td>\n",
       "      <td>-0.357347</td>\n",
       "      <td>-0.312141</td>\n",
       "      <td>-0.26982</td>\n",
       "    </tr>\n",
       "    <tr>\n",
       "      <th>4</th>\n",
       "      <td>0.58601</td>\n",
       "      <td>-0.579826</td>\n",
       "      <td>0.596297</td>\n",
       "      <td>-1.056185</td>\n",
       "      <td>0.607812</td>\n",
       "      <td>0.309164</td>\n",
       "      <td>-1.041790</td>\n",
       "      <td>-0.168044</td>\n",
       "      <td>-0.344868</td>\n",
       "      <td>-0.322137</td>\n",
       "      <td>-0.755251</td>\n",
       "      <td>1.583085</td>\n",
       "      <td>-0.26982</td>\n",
       "    </tr>\n",
       "  </tbody>\n",
       "</table>\n",
       "</div>"
      ],
      "text/plain": [
       "   credit.policy   purpose  int.rate  installment  log.annual.inc       dti  \\\n",
       "0        0.58601 -0.012620 -0.288994     2.334953        0.687643  0.957620   \n",
       "1        0.58601 -0.579826 -0.729772    -0.471055        0.265027  0.211392   \n",
       "2        0.58601 -0.012620  0.338554     0.176370       -0.851362 -0.171068   \n",
       "3        0.58601 -0.012620 -0.965102    -0.778704        0.687643 -0.678618   \n",
       "4        0.58601 -0.579826  0.596297    -1.056185        0.607812  0.309164   \n",
       "\n",
       "       fico  days.with.cr.line  revol.bal  revol.util  inq.last.6mths  \\\n",
       "0  0.848042           0.471371   0.264600    0.108034       -0.755251   \n",
       "1  0.038114          -0.698602   0.385134    0.947892       -0.755251   \n",
       "2 -0.636826           0.093578  -0.375931   -0.796691       -0.357347   \n",
       "3  0.173102          -0.722994   0.386246    0.828400       -0.357347   \n",
       "4 -1.041790          -0.168044  -0.344868   -0.322137       -0.755251   \n",
       "\n",
       "   delinq.2yrs  pub.rec  \n",
       "0    -0.312141 -0.26982  \n",
       "1    -0.312141 -0.26982  \n",
       "2    -0.312141 -0.26982  \n",
       "3    -0.312141 -0.26982  \n",
       "4     1.583085 -0.26982  "
      ]
     },
     "execution_count": 24,
     "metadata": {},
     "output_type": "execute_result"
    }
   ],
   "source": [
    "scaled_data.head()"
   ]
  },
  {
   "cell_type": "code",
   "execution_count": 25,
   "id": "1807fef6",
   "metadata": {},
   "outputs": [],
   "source": [
    "#Set features and classes; features = y; classes = x\n",
    "\n",
    "features = scaled_data\n",
    "\n",
    "classes = data[\"not.fully.paid\"]"
   ]
  },
  {
   "cell_type": "markdown",
   "id": "bb7f9533",
   "metadata": {},
   "source": [
    "**3. Split the Dataset into Test and Train**"
   ]
  },
  {
   "cell_type": "code",
   "execution_count": 26,
   "id": "91502b66",
   "metadata": {},
   "outputs": [
    {
     "name": "stdout",
     "output_type": "stream",
     "text": [
      "(11263, 13)\n",
      "(4827, 13)\n",
      "(11263,)\n",
      "(4827,)\n"
     ]
    }
   ],
   "source": [
    "from sklearn.model_selection import train_test_split\n",
    "from sklearn.metrics import accuracy_score\n",
    "\n",
    "x_train, x_test, y_train, y_test = train_test_split(features, classes, test_size=0.3, random_state=20, stratify=classes)\n",
    "\n",
    "print(x_train.shape)\n",
    "print(x_test.shape)\n",
    "print(y_train.shape)\n",
    "print(y_test.shape)"
   ]
  },
  {
   "cell_type": "markdown",
   "id": "b87974ad",
   "metadata": {},
   "source": [
    "### Model 1 - Logistic Regression (LR)"
   ]
  },
  {
   "cell_type": "code",
   "execution_count": 27,
   "id": "c4632bd5",
   "metadata": {},
   "outputs": [],
   "source": [
    "from sklearn.linear_model import LogisticRegression\n",
    "\n",
    "classifier = LogisticRegression()\n",
    "lr_model = classifier.fit(x_train, y_train)"
   ]
  },
  {
   "cell_type": "code",
   "execution_count": 28,
   "id": "6316afae",
   "metadata": {},
   "outputs": [
    {
     "data": {
      "text/plain": [
       "array([0, 0, 1, 0, 0])"
      ]
     },
     "execution_count": 28,
     "metadata": {},
     "output_type": "execute_result"
    }
   ],
   "source": [
    "#Show Model Prediction\n",
    "\n",
    "y_prediction = lr_model.predict(x_test)\n",
    "y_prediction[0:5]"
   ]
  },
  {
   "cell_type": "code",
   "execution_count": 29,
   "id": "ad97edff",
   "metadata": {},
   "outputs": [
    {
     "data": {
      "text/plain": [
       "0.6302050963331262"
      ]
     },
     "execution_count": 29,
     "metadata": {},
     "output_type": "execute_result"
    }
   ],
   "source": [
    "#Evaluate the model\n",
    "\n",
    "model_performance = accuracy_score(y_test, y_prediction)\n",
    "model_performance"
   ]
  },
  {
   "cell_type": "code",
   "execution_count": 30,
   "id": "37bf2217",
   "metadata": {},
   "outputs": [
    {
     "name": "stdout",
     "output_type": "stream",
     "text": [
      "[[-0.12512595  0.12859724  0.12234677  0.21090168 -0.27245245 -0.05852424\n",
      "  -0.27247368  0.02143805  0.14771808  0.06042745  0.31875639 -0.05695201\n",
      "   0.04406062]]\n",
      "[0.00937886]\n"
     ]
    }
   ],
   "source": [
    "#Show Coefficient and Intercept\n",
    "\n",
    "coefficient = lr_model.coef_\n",
    "intercept = lr_model.intercept_\n",
    "\n",
    "print(coefficient)\n",
    "print(intercept)"
   ]
  },
  {
   "cell_type": "markdown",
   "id": "c6ab1767",
   "metadata": {},
   "source": [
    "The larger the coefficient, the higher the importance of the feature"
   ]
  },
  {
   "cell_type": "code",
   "execution_count": 31,
   "id": "e6974631",
   "metadata": {},
   "outputs": [
    {
     "data": {
      "image/png": "[encoded data removed]",
      "text/plain": [
       "<Figure size 640x480 with 1 Axes>"
      ]
     },
     "metadata": {},
     "output_type": "display_data"
    }
   ],
   "source": [
    "#Plot to see the features of importance\n",
    "\n",
    "#Extract the column features\n",
    "column_for_features = list(features)\n",
    "\n",
    "#Get the feature importance\n",
    "feature_importance = pd.DataFrame(coefficient, columns=column_for_features)\n",
    "\n",
    "#Plot the feature importance\n",
    "plt.bar(feature_importance.columns, feature_importance.iloc[0])\n",
    "plt.xticks(rotation = 90)\n",
    "plt.xlabel('Feature')\n",
    "plt.ylabel('Value')\n",
    "plt.title('Feature Importance')\n",
    "plt.show()"
   ]
  },
  {
   "cell_type": "code",
   "execution_count": 32,
   "id": "7d91d5d4",
   "metadata": {},
   "outputs": [],
   "source": [
    "#Show Confusion Matrix & Classification Report\n",
    "\n",
    "y_target = y_test\n",
    "y_output = y_prediction"
   ]
  },
  {
   "cell_type": "code",
   "execution_count": 33,
   "id": "e1ca7799",
   "metadata": {},
   "outputs": [
    {
     "name": "stdout",
     "output_type": "stream",
     "text": [
      "              precision    recall  f1-score   support\n",
      "\n",
      "           0       0.62      0.65      0.64      2413\n",
      "           1       0.64      0.61      0.62      2414\n",
      "\n",
      "    accuracy                           0.63      4827\n",
      "   macro avg       0.63      0.63      0.63      4827\n",
      "weighted avg       0.63      0.63      0.63      4827\n",
      "\n"
     ]
    }
   ],
   "source": [
    "from sklearn.metrics import classification_report\n",
    "print(classification_report(y_target, y_output))"
   ]
  },
  {
   "cell_type": "markdown",
   "id": "bcb3dc1d",
   "metadata": {},
   "source": [
    "Explain the classification report here"
   ]
  },
  {
   "cell_type": "markdown",
   "id": "f5f26827",
   "metadata": {},
   "source": [
    "### Model 2 - Decision Tree (DT)"
   ]
  },
  {
   "cell_type": "code",
   "execution_count": 34,
   "id": "2ff37ac0",
   "metadata": {},
   "outputs": [],
   "source": [
    "from sklearn import tree\n",
    "from sklearn.tree import DecisionTreeClassifier\n",
    "from sklearn import metrics"
   ]
  },
  {
   "cell_type": "code",
   "execution_count": 35,
   "id": "bd480b91",
   "metadata": {},
   "outputs": [],
   "source": [
    "decisionTree = DecisionTreeClassifier(criterion='entropy')"
   ]
  },
  {
   "cell_type": "code",
   "execution_count": 36,
   "id": "f1e19829",
   "metadata": {},
   "outputs": [],
   "source": [
    "dtc_model = decisionTree.fit(x_train, y_train)"
   ]
  },
  {
   "cell_type": "code",
   "execution_count": 37,
   "id": "c07cd1fc",
   "metadata": {},
   "outputs": [],
   "source": [
    "#Show prediction\n",
    "y_prediction = dtc_model.predict(x_test)"
   ]
  },
  {
   "cell_type": "code",
   "execution_count": 38,
   "id": "f047b5ff",
   "metadata": {},
   "outputs": [
    {
     "data": {
      "text/plain": [
       "0.9001450176092811"
      ]
     },
     "execution_count": 38,
     "metadata": {},
     "output_type": "execute_result"
    }
   ],
   "source": [
    "#Evaluate the model\n",
    "model_performance = accuracy_score(y_test, y_prediction)\n",
    "model_performance"
   ]
  },
  {
   "cell_type": "code",
   "execution_count": 39,
   "id": "c77c1763",
   "metadata": {},
   "outputs": [],
   "source": [
    "y_target = y_test\n",
    "y_output = y_prediction"
   ]
  },
  {
   "cell_type": "code",
   "execution_count": 40,
   "id": "249cb665",
   "metadata": {},
   "outputs": [
    {
     "name": "stdout",
     "output_type": "stream",
     "text": [
      "              precision    recall  f1-score   support\n",
      "\n",
      "           0       0.99      0.81      0.89      2413\n",
      "           1       0.84      0.99      0.91      2414\n",
      "\n",
      "    accuracy                           0.90      4827\n",
      "   macro avg       0.91      0.90      0.90      4827\n",
      "weighted avg       0.91      0.90      0.90      4827\n",
      "\n"
     ]
    }
   ],
   "source": [
    "from sklearn.metrics import classification_report\n",
    "print(classification_report(y_target, y_output))"
   ]
  },
  {
   "cell_type": "markdown",
   "id": "7999071e",
   "metadata": {},
   "source": [
    "### Model 3 - Support Vector Machine (SVM) Model"
   ]
  },
  {
   "cell_type": "code",
   "execution_count": 41,
   "id": "2d36599e",
   "metadata": {},
   "outputs": [],
   "source": [
    "from sklearn import svm"
   ]
  },
  {
   "cell_type": "code",
   "execution_count": 42,
   "id": "c97889a0",
   "metadata": {},
   "outputs": [],
   "source": [
    "svm = svm.SVC()"
   ]
  },
  {
   "cell_type": "code",
   "execution_count": 43,
   "id": "be5e6ca3",
   "metadata": {},
   "outputs": [],
   "source": [
    "svm_model = svm.fit(x_train, y_train)"
   ]
  },
  {
   "cell_type": "code",
   "execution_count": 44,
   "id": "5a4e8aac",
   "metadata": {},
   "outputs": [],
   "source": [
    "y_prediction = svm_model.predict(x_test)"
   ]
  },
  {
   "cell_type": "code",
   "execution_count": 45,
   "id": "4522e309",
   "metadata": {},
   "outputs": [
    {
     "data": {
      "text/plain": [
       "0.6799254195152269"
      ]
     },
     "execution_count": 45,
     "metadata": {},
     "output_type": "execute_result"
    }
   ],
   "source": [
    "model_accuracy = accuracy_score(y_test, y_prediction)\n",
    "model_accuracy"
   ]
  },
  {
   "cell_type": "code",
   "execution_count": 46,
   "id": "342c54ae",
   "metadata": {},
   "outputs": [],
   "source": [
    "y_target = y_test\n",
    "y_output = y_prediction"
   ]
  },
  {
   "cell_type": "code",
   "execution_count": 47,
   "id": "38d4976f",
   "metadata": {},
   "outputs": [
    {
     "name": "stdout",
     "output_type": "stream",
     "text": [
      "              precision    recall  f1-score   support\n",
      "\n",
      "           0       0.67      0.71      0.69      2413\n",
      "           1       0.69      0.65      0.67      2414\n",
      "\n",
      "    accuracy                           0.68      4827\n",
      "   macro avg       0.68      0.68      0.68      4827\n",
      "weighted avg       0.68      0.68      0.68      4827\n",
      "\n"
     ]
    }
   ],
   "source": [
    "from sklearn.metrics import classification_report\n",
    "print(classification_report(y_target, y_output))"
   ]
  },
  {
   "cell_type": "markdown",
   "id": "44f1f793",
   "metadata": {},
   "source": [
    "### Model 4 - Gaussian Naive Bayes"
   ]
  },
  {
   "cell_type": "code",
   "execution_count": 48,
   "id": "4160b67c",
   "metadata": {},
   "outputs": [],
   "source": [
    "from sklearn.naive_bayes import GaussianNB"
   ]
  },
  {
   "cell_type": "code",
   "execution_count": 49,
   "id": "b684a094",
   "metadata": {},
   "outputs": [
    {
     "data": {
      "text/plain": [
       "0.6101097990470271"
      ]
     },
     "execution_count": 49,
     "metadata": {},
     "output_type": "execute_result"
    }
   ],
   "source": [
    "gnb = GaussianNB()\n",
    "gnb_model = gnb.fit(x_train, y_train)\n",
    "y_prediction = gnb_model.predict(x_test)\n",
    "\n",
    "model_accuracy = accuracy_score(y_test, y_prediction)\n",
    "model_accuracy"
   ]
  },
  {
   "cell_type": "code",
   "execution_count": 50,
   "id": "261ae7ea",
   "metadata": {},
   "outputs": [],
   "source": [
    "y_target = y_test\n",
    "y_output = y_prediction"
   ]
  },
  {
   "cell_type": "code",
   "execution_count": 51,
   "id": "74e82f7f",
   "metadata": {},
   "outputs": [
    {
     "name": "stdout",
     "output_type": "stream",
     "text": [
      "              precision    recall  f1-score   support\n",
      "\n",
      "           0       0.59      0.75      0.66      2413\n",
      "           1       0.65      0.47      0.54      2414\n",
      "\n",
      "    accuracy                           0.61      4827\n",
      "   macro avg       0.62      0.61      0.60      4827\n",
      "weighted avg       0.62      0.61      0.60      4827\n",
      "\n"
     ]
    }
   ],
   "source": [
    "from sklearn.metrics import classification_report\n",
    "print(classification_report(y_target, y_output))"
   ]
  },
  {
   "cell_type": "markdown",
   "id": "befc358a",
   "metadata": {},
   "source": [
    "### Model 5 - Random Forest (RF)"
   ]
  },
  {
   "cell_type": "code",
   "execution_count": 52,
   "id": "d8af2802",
   "metadata": {},
   "outputs": [],
   "source": [
    "from sklearn.ensemble import RandomForestClassifier"
   ]
  },
  {
   "cell_type": "code",
   "execution_count": 53,
   "id": "0a5a42d4",
   "metadata": {},
   "outputs": [],
   "source": [
    "random_forest = RandomForestClassifier(criterion='gini')"
   ]
  },
  {
   "cell_type": "code",
   "execution_count": 54,
   "id": "4d35ffe4",
   "metadata": {},
   "outputs": [],
   "source": [
    "rf_model = random_forest.fit(x_train, y_train)"
   ]
  },
  {
   "cell_type": "code",
   "execution_count": 55,
   "id": "4fac482d",
   "metadata": {},
   "outputs": [],
   "source": [
    "y_prediction = rf_model.predict(x_test)"
   ]
  },
  {
   "cell_type": "code",
   "execution_count": 56,
   "id": "650e10c4",
   "metadata": {},
   "outputs": [
    {
     "data": {
      "text/plain": [
       "0.9662316138388233"
      ]
     },
     "execution_count": 56,
     "metadata": {},
     "output_type": "execute_result"
    }
   ],
   "source": [
    "model_performance = accuracy_score(y_test, y_prediction)\n",
    "model_performance"
   ]
  },
  {
   "cell_type": "code",
   "execution_count": 57,
   "id": "091f9787",
   "metadata": {},
   "outputs": [],
   "source": [
    "y_target = y_test\n",
    "y_output = y_prediction"
   ]
  },
  {
   "cell_type": "code",
   "execution_count": 58,
   "id": "976c24df",
   "metadata": {},
   "outputs": [
    {
     "name": "stdout",
     "output_type": "stream",
     "text": [
      "              precision    recall  f1-score   support\n",
      "\n",
      "           0       0.98      0.95      0.97      2413\n",
      "           1       0.95      0.98      0.97      2414\n",
      "\n",
      "    accuracy                           0.97      4827\n",
      "   macro avg       0.97      0.97      0.97      4827\n",
      "weighted avg       0.97      0.97      0.97      4827\n",
      "\n"
     ]
    }
   ],
   "source": [
    "from sklearn.metrics import classification_report\n",
    "print(classification_report(y_target, y_output))"
   ]
  },
  {
   "cell_type": "markdown",
   "id": "1d2a7c8e",
   "metadata": {},
   "source": [
    "This is the best performing model"
   ]
  },
  {
   "cell_type": "code",
   "execution_count": 59,
   "id": "e77bdd97",
   "metadata": {},
   "outputs": [
    {
     "data": {
      "text/plain": [
       "100"
      ]
     },
     "execution_count": 59,
     "metadata": {},
     "output_type": "execute_result"
    }
   ],
   "source": [
    "#How many trees are in the forest\n",
    "len(rf_model.estimators_)"
   ]
  },
  {
   "cell_type": "markdown",
   "id": "847afcfd",
   "metadata": {},
   "source": [
    "## Inference"
   ]
  },
  {
   "cell_type": "markdown",
   "id": "7660ea15",
   "metadata": {},
   "source": [
    "5 models were built using different classification model. Below are the performance of each model based on Precision & Recall;<br>\n",
    "\n",
    "1. Logistic Regression: Group 0(Precision:0.62, Recall:0.65), Group 1(Precision:0.64, Recall:0.61)\n",
    "2. Decision Tree: Group 0(Precision:0.99, Recall:0.81), Group 1(Precision:0.84, Recall:0.99)\n",
    "3. Support Vector Machine (SVM): Group 0(Precision:0.67, Recall:0.71), Group 1(Precision:0.69, Recall:0.65)\n",
    "4. Guassian Naive Bayes (GNB): Group 0(Precision:0.59, Recall:0.75), Group 1(Precision:0.65, Recall:0.47)\n",
    "5. Random Foreest: Group 0(Precision:0.98, Recall:0.96), Group 1(Precision:0.96, Recall:0.98) **Best Model** <br>\n",
    "\n",
    "Looking at the performance of the 5 models across the 2 groups using Precision & Accuracy, the model built with Random Forest has the best performance."
   ]
  },
  {
   "cell_type": "markdown",
   "id": "a30f3f3a",
   "metadata": {},
   "source": [
    "### Our Best Model"
   ]
  },
  {
   "cell_type": "code",
   "execution_count": 60,
   "id": "52ce16fd",
   "metadata": {},
   "outputs": [
    {
     "data": {
      "text/plain": [
       "<sklearn.metrics._plot.confusion_matrix.ConfusionMatrixDisplay at 0x7f96f00c2c20>"
      ]
     },
     "execution_count": 60,
     "metadata": {},
     "output_type": "execute_result"
    },
    {
     "data": {
      "image/png": "[encoded data removed]",
      "text/plain": [
       "<Figure size 640x480 with 2 Axes>"
      ]
     },
     "metadata": {},
     "output_type": "display_data"
    }
   ],
   "source": [
    "#View the model on a classification matix\n",
    "\n",
    "from sklearn.metrics import confusion_matrix\n",
    "from sklearn.metrics import ConfusionMatrixDisplay\n",
    "\n",
    "confusion_matrix = confusion_matrix(y_target, y_output)\n",
    "labels = ['0', '1']\n",
    "ConfusionMatrixDisplay(confusion_matrix, display_labels=labels).plot()"
   ]
  },
  {
   "cell_type": "markdown",
   "id": "38729ffd-b830-4126-8b3c-b58df9a23d94",
   "metadata": {},
   "source": [
    "**Viewing our best performing model on a confusion matrix** <br>\n",
    "\n",
    "4827 datasets were used to test the model; 2413  of which are Group 0 and 2414 are Group 1 <br>\n",
    "For Group 0, 2313 were predicted correctly while 100 were predicted incorrectly <br>\n",
    "For Group 1, 2366 were predicted correctly while 48 were predicted incorrectly"
   ]
  },
  {
   "cell_type": "code",
   "execution_count": null,
   "id": "a1d788d4-94a7-4530-9e5d-3f4c490dde56",
   "metadata": {},
   "outputs": [],
   "source": []
  }
 ],
 "metadata": {
  "kernelspec": {
   "display_name": "Python 3 (ipykernel)",
   "language": "python",
   "name": "python3"
  },
  "language_info": {
   "codemirror_mode": {
    "name": "ipython",
    "version": 3
   },
   "file_extension": ".py",
   "mimetype": "text/x-python",
   "name": "python",
   "nbconvert_exporter": "python",
   "pygments_lexer": "ipython3",
   "version": "3.10.10"
  }
 },
 "nbformat": 4,
 "nbformat_minor": 5
}
